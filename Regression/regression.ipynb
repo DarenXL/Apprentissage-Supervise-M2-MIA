{
 "cells": [
  {
   "cell_type": "markdown",
   "id": "982766eb-6b13-4375-a0a0-ad1e23fe74e3",
   "metadata": {},
   "source": [
    "# Apprentissage Supervisé - Régression"
   ]
  },
  {
   "cell_type": "markdown",
   "id": "0404ba6a-9080-49bc-9490-bc749d1e0726",
   "metadata": {},
   "source": [
    "*Lorenzo Brucato - Alexandre Loret*"
   ]
  },
  {
   "cell_type": "raw",
   "id": "63a05c2e-3cc3-414d-ba3b-3512e3dbad7d",
   "metadata": {},
   "source": [
    "pip install pyarrow"
   ]
  },
  {
   "cell_type": "code",
   "execution_count": 1,
   "id": "a189ca86-5dfa-4183-9578-47dc44bf022f",
   "metadata": {},
   "outputs": [],
   "source": [
    "import pandas as pd"
   ]
  },
  {
   "cell_type": "code",
   "execution_count": 11,
   "id": "63995e89-f7d2-457c-83f5-3ee505d8c294",
   "metadata": {},
   "outputs": [],
   "source": [
    "Xy_train = pd.read_parquet(\"data/train.parquet\")\n",
    "X_test = pd.read_parquet(\"data/test.parquet\")"
   ]
  },
  {
   "cell_type": "code",
   "execution_count": 13,
   "id": "116cf1f0-ff62-47f6-a4fb-58be6ac015a7",
   "metadata": {},
   "outputs": [
    {
     "data": {
      "text/plain": [
       "(100000, 20)"
      ]
     },
     "execution_count": 13,
     "metadata": {},
     "output_type": "execute_result"
    }
   ],
   "source": [
    "Xy_train.shape"
   ]
  },
  {
   "cell_type": "code",
   "execution_count": 10,
   "id": "bbb94220-0d94-4a6a-9e60-cd60e225ab1d",
   "metadata": {},
   "outputs": [
    {
     "data": {
      "text/plain": [
       "(2627163, 19)"
      ]
     },
     "execution_count": 10,
     "metadata": {},
     "output_type": "execute_result"
    }
   ],
   "source": [
    "X_test.shape"
   ]
  },
  {
   "cell_type": "markdown",
   "id": "0bb13f0b-a10a-46cf-ada2-28c6f47363f8",
   "metadata": {},
   "source": [
    "### Prétraitement"
   ]
  },
  {
   "cell_type": "markdown",
   "id": "0d438ae3-0616-43d6-920d-2e003ded0a40",
   "metadata": {},
   "source": [
    "**=== NaN ? ===**"
   ]
  },
  {
   "cell_type": "code",
   "execution_count": 22,
   "id": "ff70f5ec-db75-4b1b-a365-e947e75c7749",
   "metadata": {},
   "outputs": [
    {
     "data": {
      "text/plain": [
       "VendorID                 0\n",
       "tpep_pickup_datetime     0\n",
       "tpep_dropoff_datetime    0\n",
       "passenger_count          0\n",
       "trip_distance            0\n",
       "RatecodeID               0\n",
       "store_and_fwd_flag       0\n",
       "payment_type             0\n",
       "fare_amount              0\n",
       "extra                    0\n",
       "mta_tax                  0\n",
       "tip_amount               0\n",
       "tolls_amount             0\n",
       "improvement_surcharge    0\n",
       "congestion_surcharge     0\n",
       "Airport_fee              0\n",
       "PU_location_lat          0\n",
       "PU_location_lon          0\n",
       "DO_location_lat          0\n",
       "DO_location_lon          0\n",
       "dtype: int64"
      ]
     },
     "execution_count": 22,
     "metadata": {},
     "output_type": "execute_result"
    }
   ],
   "source": [
    "pd.isnull(Xy_train).sum()"
   ]
  },
  {
   "cell_type": "code",
   "execution_count": 23,
   "id": "9942380d-95dd-4c22-a336-437a4cbd6688",
   "metadata": {},
   "outputs": [
    {
     "data": {
      "text/plain": [
       "VendorID                 0\n",
       "tpep_pickup_datetime     0\n",
       "tpep_dropoff_datetime    0\n",
       "passenger_count          0\n",
       "trip_distance            0\n",
       "RatecodeID               0\n",
       "store_and_fwd_flag       0\n",
       "payment_type             0\n",
       "fare_amount              0\n",
       "extra                    0\n",
       "mta_tax                  0\n",
       "tolls_amount             0\n",
       "improvement_surcharge    0\n",
       "congestion_surcharge     0\n",
       "Airport_fee              0\n",
       "PU_location_lat          0\n",
       "PU_location_lon          0\n",
       "DO_location_lat          0\n",
       "DO_location_lon          0\n",
       "dtype: int64"
      ]
     },
     "execution_count": 23,
     "metadata": {},
     "output_type": "execute_result"
    }
   ],
   "source": [
    "pd.isnull(X_test).sum()"
   ]
  },
  {
   "cell_type": "markdown",
   "id": "89e00408-23ce-415c-bf5d-a09f15bd1ab0",
   "metadata": {},
   "source": [
    "**=== split X/y ===**"
   ]
  },
  {
   "cell_type": "code",
   "execution_count": 20,
   "id": "8bae6f46-891c-41f3-84d0-1d22bf58bdab",
   "metadata": {},
   "outputs": [
    {
     "data": {
      "text/plain": [
       "((100000, 19), (100000,))"
      ]
     },
     "execution_count": 20,
     "metadata": {},
     "output_type": "execute_result"
    }
   ],
   "source": [
    "X_train = Xy_train.drop(\"tip_amount\",axis=1)\n",
    "y_train = Xy_train[\"tip_amount\"]\n",
    "\n",
    "X_train.shape, y_train.shape"
   ]
  },
  {
   "cell_type": "code",
   "execution_count": null,
   "id": "abb16d2a-649c-445b-9073-4e998779e764",
   "metadata": {},
   "outputs": [],
   "source": []
  }
 ],
 "metadata": {
  "kernelspec": {
   "display_name": "Python 3 (ipykernel)",
   "language": "python",
   "name": "python3"
  },
  "language_info": {
   "codemirror_mode": {
    "name": "ipython",
    "version": 3
   },
   "file_extension": ".py",
   "mimetype": "text/x-python",
   "name": "python",
   "nbconvert_exporter": "python",
   "pygments_lexer": "ipython3",
   "version": "3.11.0"
  }
 },
 "nbformat": 4,
 "nbformat_minor": 5
}
