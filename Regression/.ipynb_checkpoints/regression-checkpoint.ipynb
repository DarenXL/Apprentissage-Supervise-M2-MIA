{
 "cells": [
  {
   "cell_type": "markdown",
   "id": "982766eb-6b13-4375-a0a0-ad1e23fe74e3",
   "metadata": {},
   "source": [
    "# Apprentissage Supervisé - Régression"
   ]
  },
  {
   "cell_type": "markdown",
   "id": "0404ba6a-9080-49bc-9490-bc749d1e0726",
   "metadata": {},
   "source": [
    "*Lorenzo Brucato - Alexandre Loret*"
   ]
  },
  {
   "cell_type": "raw",
   "id": "63a05c2e-3cc3-414d-ba3b-3512e3dbad7d",
   "metadata": {},
   "source": [
    "pip install pyarrow"
   ]
  },
  {
   "cell_type": "code",
   "execution_count": 2,
   "id": "a189ca86-5dfa-4183-9578-47dc44bf022f",
   "metadata": {},
   "outputs": [],
   "source": [
    "import pandas as pd"
   ]
  },
  {
   "cell_type": "code",
   "execution_count": null,
   "id": "63995e89-f7d2-457c-83f5-3ee505d8c294",
   "metadata": {},
   "outputs": [],
   "source": []
  }
 ],
 "metadata": {
  "kernelspec": {
   "display_name": "Python 3 (ipykernel)",
   "language": "python",
   "name": "python3"
  },
  "language_info": {
   "codemirror_mode": {
    "name": "ipython",
    "version": 3
   },
   "file_extension": ".py",
   "mimetype": "text/x-python",
   "name": "python",
   "nbconvert_exporter": "python",
   "pygments_lexer": "ipython3",
   "version": "3.11.0"
  }
 },
 "nbformat": 4,
 "nbformat_minor": 5
}
